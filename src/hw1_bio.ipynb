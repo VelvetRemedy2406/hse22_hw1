{
 "cells": [
  {
   "cell_type": "code",
   "execution_count": null,
   "metadata": {},
   "outputs": [],
   "source": []
  },
  {
   "cell_type": "code",
   "execution_count": null,
   "metadata": {},
   "outputs": [],
   "source": []
  },
  {
   "cell_type": "markdown",
   "metadata": {},
   "source": [
    "# Анализ контигов"
   ]
  },
  {
   "cell_type": "code",
   "execution_count": 54,
   "metadata": {},
   "outputs": [
    {
     "name": "stdout",
     "output_type": "stream",
     "text": [
      "Общее количество контигов:  599\n",
      "Их общая длина:  3924044\n",
      "Длина самого длинного контига:  179307\n",
      "N50:  29353\n"
     ]
    }
   ],
   "source": [
    "contig = [x.split('\\n')[:-1] for x in ''.join(open('contig.fasta').readlines()).split('>')[1:]]\n",
    "y = [len(''.join(el[1:])) for el in contig]\n",
    "y.sort(reverse=True)\n",
    "counter, sm = 0, 0\n",
    "while sm < sum(y) // 2:\n",
    "    sm += y[count]\n",
    "    counter += 1\n",
    "\n",
    "print(\"Общее количество контигов: \", len(y))\n",
    "print(\"Их общая длина: \", sum(y))\n",
    "print(\"Длина самого длинного контига: \", max(y))\n",
    "print(\"N50: \",  y[counter])"
   ]
  },
  {
   "cell_type": "markdown",
   "metadata": {},
   "source": [
    "# Анализ скаффолдов  "
   ]
  },
  {
   "cell_type": "code",
   "execution_count": 55,
   "metadata": {},
   "outputs": [
    {
     "name": "stdout",
     "output_type": "stream",
     "text": [
      "Общее количество скаффолдов:  599\n",
      "Их общая длина:  3924044\n",
      "Длина самого длинного скаффолдов:  179307\n",
      "N50:  23308\n"
     ]
    }
   ],
   "source": [
    "contig = [x.split('\\n')[:-1] for x in ''.join(open('contig.fasta').readlines()).split('>')[1:]]\n",
    "y = [len(''.join(el[1:])) for el in contig]\n",
    "y.sort(reverse=True)\n",
    "count, sm = 0, 0\n",
    "while sm < sum(y) // 2:\n",
    "    sm += y[count]\n",
    "    counter += 1\n",
    "\n",
    "print(\"Общее количество скаффолдов: \", len(y))\n",
    "print(\"Их общая длина: \", sum(y))\n",
    "print(\"Длина самого длинного скаффолдов: \", max(y))\n",
    "print(\"N50: \",  y[counter])"
   ]
  },
  {
   "cell_type": "code",
   "execution_count": null,
   "metadata": {},
   "outputs": [],
   "source": []
  },
  {
   "cell_type": "markdown",
   "metadata": {},
   "source": []
  },
  {
   "cell_type": "code",
   "execution_count": null,
   "metadata": {},
   "outputs": [],
   "source": []
  },
  {
   "cell_type": "code",
   "execution_count": null,
   "metadata": {},
   "outputs": [],
   "source": []
  },
  {
   "cell_type": "code",
   "execution_count": null,
   "metadata": {},
   "outputs": [],
   "source": []
  },
  {
   "cell_type": "code",
   "execution_count": null,
   "metadata": {},
   "outputs": [],
   "source": []
  },
  {
   "cell_type": "code",
   "execution_count": null,
   "metadata": {},
   "outputs": [],
   "source": []
  },
  {
   "cell_type": "code",
   "execution_count": 51,
   "metadata": {},
   "outputs": [],
   "source": []
  },
  {
   "cell_type": "code",
   "execution_count": null,
   "metadata": {},
   "outputs": [],
   "source": []
  }
 ],
 "metadata": {
  "kernelspec": {
   "display_name": "Python 3",
   "language": "python",
   "name": "python3"
  },
  "language_info": {
   "codemirror_mode": {
    "name": "ipython",
    "version": 3
   },
   "file_extension": ".py",
   "mimetype": "text/x-python",
   "name": "python",
   "nbconvert_exporter": "python",
   "pygments_lexer": "ipython3",
   "version": "3.7.4"
  }
 },
 "nbformat": 4,
 "nbformat_minor": 4
}
